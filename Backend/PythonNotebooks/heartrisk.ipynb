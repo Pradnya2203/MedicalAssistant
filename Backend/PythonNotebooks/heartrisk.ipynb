{
 "cells": [
  {
   "cell_type": "code",
   "execution_count": 4,
   "id": "ba23474f-5326-4ad0-a2c8-00a2f62fec14",
   "metadata": {},
   "outputs": [],
   "source": [
    "import pandas as pd\n",
    "import missingno as miss\n",
    "\n",
    "# Data loading\n",
    "df = pd.read_csv(r\"C:\\Users\\prash\\Downloads\\heart_risk\\data_heartdisease.csv\", index_col='id')\n"
   ]
  },
  {
   "cell_type": "code",
   "execution_count": 12,
   "id": "05dee532-f8d1-47a8-9cdf-e9dc19b04f8d",
   "metadata": {},
   "outputs": [
    {
     "data": {
      "text/html": [
       "<div>\n",
       "<style scoped>\n",
       "    .dataframe tbody tr th:only-of-type {\n",
       "        vertical-align: middle;\n",
       "    }\n",
       "\n",
       "    .dataframe tbody tr th {\n",
       "        vertical-align: top;\n",
       "    }\n",
       "\n",
       "    .dataframe thead th {\n",
       "        text-align: right;\n",
       "    }\n",
       "</style>\n",
       "<table border=\"1\" class=\"dataframe\">\n",
       "  <thead>\n",
       "    <tr style=\"text-align: right;\">\n",
       "      <th></th>\n",
       "      <th>age</th>\n",
       "      <th>resting_blood_presure</th>\n",
       "      <th>serum_cholesterol</th>\n",
       "      <th>fasting_blood_sugar</th>\n",
       "    </tr>\n",
       "  </thead>\n",
       "  <tbody>\n",
       "    <tr>\n",
       "      <th>count</th>\n",
       "      <td>540.000000</td>\n",
       "      <td>540.000000</td>\n",
       "      <td>540.000000</td>\n",
       "      <td>540.00000</td>\n",
       "    </tr>\n",
       "    <tr>\n",
       "      <th>mean</th>\n",
       "      <td>53.122222</td>\n",
       "      <td>130.442593</td>\n",
       "      <td>248.224074</td>\n",
       "      <td>0.07963</td>\n",
       "    </tr>\n",
       "    <tr>\n",
       "      <th>std</th>\n",
       "      <td>6.344754</td>\n",
       "      <td>11.058222</td>\n",
       "      <td>39.206269</td>\n",
       "      <td>0.27097</td>\n",
       "    </tr>\n",
       "    <tr>\n",
       "      <th>min</th>\n",
       "      <td>39.000000</td>\n",
       "      <td>105.000000</td>\n",
       "      <td>141.000000</td>\n",
       "      <td>0.00000</td>\n",
       "    </tr>\n",
       "    <tr>\n",
       "      <th>25%</th>\n",
       "      <td>48.000000</td>\n",
       "      <td>120.000000</td>\n",
       "      <td>222.000000</td>\n",
       "      <td>0.00000</td>\n",
       "    </tr>\n",
       "    <tr>\n",
       "      <th>50%</th>\n",
       "      <td>54.000000</td>\n",
       "      <td>130.000000</td>\n",
       "      <td>243.000000</td>\n",
       "      <td>0.00000</td>\n",
       "    </tr>\n",
       "    <tr>\n",
       "      <th>75%</th>\n",
       "      <td>58.000000</td>\n",
       "      <td>138.000000</td>\n",
       "      <td>266.250000</td>\n",
       "      <td>0.00000</td>\n",
       "    </tr>\n",
       "    <tr>\n",
       "      <th>max</th>\n",
       "      <td>68.000000</td>\n",
       "      <td>170.000000</td>\n",
       "      <td>564.000000</td>\n",
       "      <td>1.00000</td>\n",
       "    </tr>\n",
       "  </tbody>\n",
       "</table>\n",
       "</div>"
      ],
      "text/plain": [
       "              age  resting_blood_presure  serum_cholesterol  \\\n",
       "count  540.000000             540.000000         540.000000   \n",
       "mean    53.122222             130.442593         248.224074   \n",
       "std      6.344754              11.058222          39.206269   \n",
       "min     39.000000             105.000000         141.000000   \n",
       "25%     48.000000             120.000000         222.000000   \n",
       "50%     54.000000             130.000000         243.000000   \n",
       "75%     58.000000             138.000000         266.250000   \n",
       "max     68.000000             170.000000         564.000000   \n",
       "\n",
       "       fasting_blood_sugar  \n",
       "count            540.00000  \n",
       "mean               0.07963  \n",
       "std                0.27097  \n",
       "min                0.00000  \n",
       "25%                0.00000  \n",
       "50%                0.00000  \n",
       "75%                0.00000  \n",
       "max                1.00000  "
      ]
     },
     "execution_count": 12,
     "metadata": {},
     "output_type": "execute_result"
    }
   ],
   "source": [
    "df.describe()"
   ]
  },
  {
   "cell_type": "code",
   "execution_count": 5,
   "id": "9a3cf7bb-0aa5-4b88-a3ae-0930a32cb469",
   "metadata": {},
   "outputs": [],
   "source": [
    "import pandas as pd\n",
    "import matplotlib.pyplot as plt\n",
    "import numpy as np\n",
    "from sklearn.linear_model import LogisticRegression\n",
    "from sklearn.model_selection import train_test_split\n",
    "from sklearn.metrics import accuracy_score, confusion_matrix\n"
   ]
  },
  {
   "cell_type": "code",
   "execution_count": 10,
   "id": "1d4f3e54-f4d4-48ca-a144-7e2924fff237",
   "metadata": {},
   "outputs": [
    {
     "name": "stderr",
     "output_type": "stream",
     "text": [
      "C:\\Users\\prash\\AppData\\Local\\Temp\\ipykernel_17280\\2103444823.py:5: FutureWarning: Downcasting behavior in `replace` is deprecated and will be removed in a future version. To retain the old behavior, explicitly call `result.infer_objects(copy=False)`. To opt-in to the future behavior, set `pd.set_option('future.no_silent_downcasting', True)`\n",
      "  y = df['heart_disease_diagnosis'].replace({'Yes': 1, 'No': 0})\n"
     ]
    },
    {
     "name": "stdout",
     "output_type": "stream",
     "text": [
      "===> Accuracy of heart_disease_diagnosis prediction based on age and serum_cholesterol\n",
      "Accuracy = 0.7037 \n",
      "\n",
      "Confusion matrix:\n",
      " [[47 12]\n",
      " [20 29]] \n",
      "\n",
      "True positives (TP): 29\n",
      "False positives (FP): 12\n",
      "False negatives (FN): 20\n",
      "True negatives (TN): 47 \n",
      "\n",
      "Precision = TP / (TP + FP) = 0.7073\n",
      "Recall = TP / (TP + FN) = 0.5918 \n",
      "\n"
     ]
    }
   ],
   "source": [
    "# def model_and_plot(ind_var_1, ind_var_2, dep_var, axis):\n",
    "    \n",
    "    # Define the input features and target variable\n",
    "X = df[['age', 'serum_cholesterol']]\n",
    "y = df['heart_disease_diagnosis'].replace({'Yes': 1, 'No': 0})\n",
    "\n",
    "# Split the data into training and testing sets\n",
    "X_train, X_test, y_train, y_test = train_test_split(X, y, test_size=0.2, random_state=42)\n",
    "\n",
    "# Create the logistic regression model\n",
    "model = LogisticRegression()\n",
    "model.fit(X_train.values, y_train.values)\n",
    "\n",
    "# Make predictions on the testing set\n",
    "y_pred = model.predict(X_test.values)\n",
    "accuracy = accuracy_score(y_test, y_pred)\n",
    "conf_mat = confusion_matrix(y_test, y_pred)\n",
    "\n",
    "print(f\"===> Accuracy of {'heart_disease_diagnosis'} prediction based on {'age'} and {'serum_cholesterol'}\")\n",
    "print(\"Accuracy =\", round(accuracy, 4), '\\n')\n",
    "print(\"Confusion matrix:\\n\", conf_mat, '\\n')\n",
    "\n",
    "print(\"True positives (TP):\", conf_mat[1,1])\n",
    "print(\"False positives (FP):\", conf_mat[0,1])\n",
    "print(\"False negatives (FN):\", conf_mat[1,0])\n",
    "print(\"True negatives (TN):\", conf_mat[0,0], '\\n')\n",
    "    \n",
    "print(\"Precision = TP / (TP + FP) =\", round(conf_mat[1,1] / (conf_mat[1,1] + conf_mat[0,1]), 4))\n",
    "print(\"Recall = TP / (TP + FN) =\", round(conf_mat[1,1] / (conf_mat[1,1] + conf_mat[1,0]), 4), '\\n')\n",
    "xx, yy = np.meshgrid(np.arange(X['age'].min()-1, X['age'].max()+1, 0.01), np.arange(X['serum_cholesterol'].min()-1, X['serum_cholesterol'].max()+1, 0.01))\n",
    "Z = model.predict(np.c_[xx.ravel(), yy.ravel()])\n",
    "Z = Z.reshape(xx.shape)\n",
    "    \n",
    "\n",
    "# fig, axes = plt.subplots(nrows=1, ncols=2, figsize=(12, 6))\n",
    "\n",
    "# model_and_plot(ind_var_1='age', ind_var_2='serum_cholesterol', dep_var='heart_disease_diagnosis', axis=axes[0])\n",
    "# model_and_plot(ind_var_1='age', ind_var_2='resting_blood_presure', dep_var='heart_disease_diagnosis', axis=axes[1])\n",
    "\n",
    "# plt.tight_layout()\n"
   ]
  },
  {
   "cell_type": "code",
   "execution_count": null,
   "id": "dd2b5878-ba59-411a-8193-f77ee97a61c9",
   "metadata": {},
   "outputs": [],
   "source": []
  },
  {
   "cell_type": "code",
   "execution_count": 11,
   "id": "02b931ba-eb31-4708-b55d-e04172baae2e",
   "metadata": {},
   "outputs": [],
   "source": [
    " import pickle\n",
    "filename = 'heart_risk.sav'\n",
    "pickle.dump(model, open(filename, 'wb'))"
   ]
  },
  {
   "cell_type": "code",
   "execution_count": null,
   "id": "5cfa28dd-e798-4b16-984b-9a8419057806",
   "metadata": {},
   "outputs": [],
   "source": []
  }
 ],
 "metadata": {
  "kernelspec": {
   "display_name": "Python 3 (ipykernel)",
   "language": "python",
   "name": "python3"
  },
  "language_info": {
   "codemirror_mode": {
    "name": "ipython",
    "version": 3
   },
   "file_extension": ".py",
   "mimetype": "text/x-python",
   "name": "python",
   "nbconvert_exporter": "python",
   "pygments_lexer": "ipython3",
   "version": "3.10.11"
  }
 },
 "nbformat": 4,
 "nbformat_minor": 5
}
