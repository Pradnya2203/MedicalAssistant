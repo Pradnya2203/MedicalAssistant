{
 "cells": [
  {
   "cell_type": "code",
   "execution_count": 32,
   "id": "99ef0b29-0a42-4a83-91b3-711209d865ea",
   "metadata": {},
   "outputs": [],
   "source": [
    "import pandas as pd\n",
    "import numpy as np\n",
    "import random"
   ]
  },
  {
   "cell_type": "code",
   "execution_count": 33,
   "id": "fd8c2f1f-17e2-415c-a0bb-fce3169a8356",
   "metadata": {},
   "outputs": [],
   "source": [
    "first_names = ['Emily', 'Jacob', 'Olivia', 'Michael', 'Sophia',\n",
    " 'Ethan', 'Ava', 'William', 'Isabella', 'Alexander',\n",
    "    'Mia', 'James', 'Charlotte', 'Benjamin', 'Amelia',\n",
    "    'Daniel', 'Harper', 'Matthew', 'Evelyn', 'Lucas',\n",
    "    'Abigail', 'Chloe', 'William', 'Madison', 'Elijah',\n",
    "    'Elizabeth', 'Michael', 'Aiden', 'Harper',\n",
    "    'Daniel', 'Olivia', 'Ethan', 'Ava', 'Mason',\n",
    "    'Mia', 'Logan', 'Sophia', 'Benjamin', 'Isabella',\n",
    "    'Jacob', 'Emily', 'William', 'Charlotte', 'Noah',\n",
    "    'Harper', 'Ethan', 'Ava', 'Mason', 'Olivia'\n",
    "]\n",
    "last_names = [\n",
    "    'Smith', 'Johnson', 'Williams', 'Jones', 'Brown',\n",
    "    'Davis', 'Miller', 'Wilson', 'Moore', 'Taylor',\n",
    "    'Anderson', 'Martinez', 'Garcia', 'Rodriguez', 'Hernandez',\n",
    "    'Gonzalez', 'Lopez', 'Lee', 'Perez', 'Scott',\n",
    "    'Green', 'Adams', 'Baker', 'Hill', 'King',\n",
    "    'Carter', 'Rivera', 'Mitchell', 'Roberts', 'Evans',\n",
    "    'Thompson', 'Lewis', 'Clark', 'Hall', 'Phillips',\n",
    "    'Murphy', 'Russell', 'Edwards', 'Stewart', 'Coleman',\n",
    "    'Cook', 'Bailey', 'Gonzales', 'White', 'Harris',\n",
    "    'Nelson', 'Wright', 'Morris'\n",
    "]\n"
   ]
  },
  {
   "cell_type": "code",
   "execution_count": 43,
   "id": "ae3b6414-f037-4638-a012-bc712296bacb",
   "metadata": {},
   "outputs": [
    {
     "name": "stdout",
     "output_type": "stream",
     "text": [
      "                  Name      Location      Specialization  Rating  \\\n",
      "0  Dr. Elizabeth Baker        Dallas  Orthopedic Surgeon       2   \n",
      "1        Dr. Noah Hill       Chicago         Neurologist       5   \n",
      "2      Dr. Evelyn Cook     San Diego    Vascular Surgeon       1   \n",
      "3    Dr. Ethan Coleman      New York  Orthopedic Surgeon       4   \n",
      "4    Dr. Sophia Wright  Philadelphia        Cardiologist       2   \n",
      "\n",
      "   Availability  9AM  10AM  11AM  12PM  1PM  2PM  3PM  4PM  5PM  \n",
      "0             0    1     0     0     0    0    0    1    1    0  \n",
      "1             1    1     1     1     1    0    1    1    0    0  \n",
      "2             0    1     0     1     1    0    1    1    1    0  \n",
      "3             0    0     1     1     1    1    1    1    1    1  \n",
      "4             0    0     0     1     1    1    0    0    0    0  \n"
     ]
    }
   ],
   "source": [
    "# Specializations from the provided list\n",
    "specializations = ['Dermatologist', 'Endocrinologist', 'Infectious Disease Specialist', 'Gastroenterologist', 'Cardiologist', 'Rheumatologist', 'Neurologist', 'Urologist', 'Proctologist', 'Orthopedic Surgeon', 'Pulmonologist', 'Allergist/Immunologist', 'Vascular Surgeon', 'Pharmacologist', 'Ear, Nose, and Throat (ENT) Specialist', 'General Practitioner (GP)']\n",
    "\n",
    "\n",
    "# Generate random names\n",
    "def generate_random_name():\n",
    "    return \"Dr. \" + np.random.choice(first_names) + ' ' + np.random.choice(last_names)\n",
    "\n",
    "# Generate random locations\n",
    "def generate_random_location():\n",
    "    locations = ['New York', 'Los Angeles', 'Chicago', 'Houston', 'Phoenix', 'Philadelphia', 'San Antonio', 'San Diego', 'Dallas', 'San Jose']\n",
    "    return np.random.choice(locations)\n",
    "\n",
    "# Generate random user ratings between 0 and 5\n",
    "def generate_random_rating():\n",
    "    return np.random.randint(1, 6)\n",
    "\n",
    "\n",
    "# Create the dataset\n",
    "data = []\n",
    "for _ in range(1000):\n",
    "    name = generate_random_name()\n",
    "    location = generate_random_location()\n",
    "    specialization = np.random.choice(specializations)\n",
    "    rating = generate_random_rating()\n",
    "    availability = random.randint(0, 1)\n",
    "    timing_9am = random.randint(0, 1)\n",
    "    timing_10am = random.randint(0, 1)\n",
    "    timing_11am = random.randint(0, 1)\n",
    "    timing_12pm = random.randint(0, 1)\n",
    "    timing_1pm = random.randint(0, 1)\n",
    "    timing_2pm = random.randint(0, 1)\n",
    "    timing_3pm = random.randint(0, 1)\n",
    "    timing_4pm = random.randint(0, 1)\n",
    "    timing_5pm = random.randint(0, 1)\n",
    "    data.append([name, location, specialization, rating,availability,timing_9am,timing_10am,timing_11am,timing_12pm,timing_1pm,timing_2pm,timing_3pm,timing_4pm,timing_5pm])\n",
    "\n",
    "# Create a DataFrame\n",
    "df = pd.DataFrame(data, columns=['Name', 'Location', 'Specialization', 'Rating', 'Availability', '9AM', '10AM', '11AM', '12PM', '1PM', '2PM', '3PM', '4PM', '5PM'])\n",
    "\n",
    "# Display the first few rows of the DataFrame\n",
    "print(df.head())"
   ]
  },
  {
   "cell_type": "code",
   "execution_count": 44,
   "id": "8d91aeb9-fa1c-4c47-8eb9-9eb0e663d0e7",
   "metadata": {},
   "outputs": [],
   "source": [
    "df.to_csv('doc-data.csv', index=False)"
   ]
  },
  {
   "cell_type": "code",
   "execution_count": 36,
   "id": "f78d9402-45e7-4ed0-baa0-3ca244696fdb",
   "metadata": {},
   "outputs": [
    {
     "name": "stdout",
     "output_type": "stream",
     "text": [
      "[2 3 5 1 4]\n"
     ]
    }
   ],
   "source": [
    "unique_values = df['Rating'].unique()\n",
    "\n",
    "print(unique_values)"
   ]
  },
  {
   "cell_type": "code",
   "execution_count": 39,
   "id": "329ddec5-5143-47c5-9d7a-d26265b6f03e",
   "metadata": {},
   "outputs": [
    {
     "data": {
      "text/html": [
       "<div>\n",
       "<style scoped>\n",
       "    .dataframe tbody tr th:only-of-type {\n",
       "        vertical-align: middle;\n",
       "    }\n",
       "\n",
       "    .dataframe tbody tr th {\n",
       "        vertical-align: top;\n",
       "    }\n",
       "\n",
       "    .dataframe thead th {\n",
       "        text-align: right;\n",
       "    }\n",
       "</style>\n",
       "<table border=\"1\" class=\"dataframe\">\n",
       "  <thead>\n",
       "    <tr style=\"text-align: right;\">\n",
       "      <th></th>\n",
       "      <th>Name</th>\n",
       "      <th>Location</th>\n",
       "      <th>Specialization</th>\n",
       "      <th>Rating</th>\n",
       "      <th>Availability</th>\n",
       "      <th>9AM</th>\n",
       "      <th>10AM</th>\n",
       "      <th>11AM</th>\n",
       "      <th>12PM</th>\n",
       "      <th>1PM</th>\n",
       "      <th>2PM</th>\n",
       "      <th>3PM</th>\n",
       "      <th>4PM</th>\n",
       "      <th>5PM</th>\n",
       "    </tr>\n",
       "  </thead>\n",
       "  <tbody>\n",
       "  </tbody>\n",
       "</table>\n",
       "</div>"
      ],
      "text/plain": [
       "Empty DataFrame\n",
       "Columns: [Name, Location, Specialization, Rating, Availability, 9AM, 10AM, 11AM, 12PM, 1PM, 2PM, 3PM, 4PM, 5PM]\n",
       "Index: []"
      ]
     },
     "execution_count": 39,
     "metadata": {},
     "output_type": "execute_result"
    }
   ],
   "source": [
    "filtered_df = df[df['Specialization'] == 'Neurologist']\n",
    "sorted_df_desc = filtered_df.sort_values(by='Rating', ascending=False)\n",
    "\n",
    "sorted_df_desc"
   ]
  },
  {
   "cell_type": "code",
   "execution_count": null,
   "id": "2194385e-823f-4cca-ae03-5be5564b6ccf",
   "metadata": {},
   "outputs": [],
   "source": []
  }
 ],
 "metadata": {
  "kernelspec": {
   "display_name": "Python 3 (ipykernel)",
   "language": "python",
   "name": "python3"
  },
  "language_info": {
   "codemirror_mode": {
    "name": "ipython",
    "version": 3
   },
   "file_extension": ".py",
   "mimetype": "text/x-python",
   "name": "python",
   "nbconvert_exporter": "python",
   "pygments_lexer": "ipython3",
   "version": "3.10.11"
  }
 },
 "nbformat": 4,
 "nbformat_minor": 5
}
