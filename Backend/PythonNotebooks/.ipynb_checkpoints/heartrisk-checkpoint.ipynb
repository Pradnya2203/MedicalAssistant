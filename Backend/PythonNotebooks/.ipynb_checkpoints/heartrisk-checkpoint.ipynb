{
 "cells": [
  {
   "cell_type": "code",
   "execution_count": 1,
   "id": "ba23474f-5326-4ad0-a2c8-00a2f62fec14",
   "metadata": {},
   "outputs": [],
   "source": [
    "import missingno as miss\n",
    "import pandas as pd\n",
    "import matplotlib.pyplot as plt\n",
    "import numpy as np\n",
    "from sklearn.linear_model import LogisticRegression\n",
    "from sklearn.model_selection import train_test_split\n",
    "from sklearn.metrics import accuracy_score, confusion_matrix, classification_report\n",
    "import seaborn as sns"
   ]
  },
  {
   "cell_type": "markdown",
   "id": "66195b5f-a5d0-4f7b-a870-f0edbc1c4a4a",
   "metadata": {},
   "source": [
    "## Load Data"
   ]
  },
  {
   "cell_type": "code",
   "execution_count": 2,
   "id": "05dee532-f8d1-47a8-9cdf-e9dc19b04f8d",
   "metadata": {},
   "outputs": [
    {
     "data": {
      "text/html": [
       "<div>\n",
       "<style scoped>\n",
       "    .dataframe tbody tr th:only-of-type {\n",
       "        vertical-align: middle;\n",
       "    }\n",
       "\n",
       "    .dataframe tbody tr th {\n",
       "        vertical-align: top;\n",
       "    }\n",
       "\n",
       "    .dataframe thead th {\n",
       "        text-align: right;\n",
       "    }\n",
       "</style>\n",
       "<table border=\"1\" class=\"dataframe\">\n",
       "  <thead>\n",
       "    <tr style=\"text-align: right;\">\n",
       "      <th></th>\n",
       "      <th>age</th>\n",
       "      <th>resting_blood_presure</th>\n",
       "      <th>serum_cholesterol</th>\n",
       "      <th>fasting_blood_sugar</th>\n",
       "    </tr>\n",
       "  </thead>\n",
       "  <tbody>\n",
       "    <tr>\n",
       "      <th>count</th>\n",
       "      <td>540.000000</td>\n",
       "      <td>540.000000</td>\n",
       "      <td>540.000000</td>\n",
       "      <td>540.00000</td>\n",
       "    </tr>\n",
       "    <tr>\n",
       "      <th>mean</th>\n",
       "      <td>53.122222</td>\n",
       "      <td>130.442593</td>\n",
       "      <td>248.224074</td>\n",
       "      <td>0.07963</td>\n",
       "    </tr>\n",
       "    <tr>\n",
       "      <th>std</th>\n",
       "      <td>6.344754</td>\n",
       "      <td>11.058222</td>\n",
       "      <td>39.206269</td>\n",
       "      <td>0.27097</td>\n",
       "    </tr>\n",
       "    <tr>\n",
       "      <th>min</th>\n",
       "      <td>39.000000</td>\n",
       "      <td>105.000000</td>\n",
       "      <td>141.000000</td>\n",
       "      <td>0.00000</td>\n",
       "    </tr>\n",
       "    <tr>\n",
       "      <th>25%</th>\n",
       "      <td>48.000000</td>\n",
       "      <td>120.000000</td>\n",
       "      <td>222.000000</td>\n",
       "      <td>0.00000</td>\n",
       "    </tr>\n",
       "    <tr>\n",
       "      <th>50%</th>\n",
       "      <td>54.000000</td>\n",
       "      <td>130.000000</td>\n",
       "      <td>243.000000</td>\n",
       "      <td>0.00000</td>\n",
       "    </tr>\n",
       "    <tr>\n",
       "      <th>75%</th>\n",
       "      <td>58.000000</td>\n",
       "      <td>138.000000</td>\n",
       "      <td>266.250000</td>\n",
       "      <td>0.00000</td>\n",
       "    </tr>\n",
       "    <tr>\n",
       "      <th>max</th>\n",
       "      <td>68.000000</td>\n",
       "      <td>170.000000</td>\n",
       "      <td>564.000000</td>\n",
       "      <td>1.00000</td>\n",
       "    </tr>\n",
       "  </tbody>\n",
       "</table>\n",
       "</div>"
      ],
      "text/plain": [
       "              age  resting_blood_presure  serum_cholesterol  \\\n",
       "count  540.000000             540.000000         540.000000   \n",
       "mean    53.122222             130.442593         248.224074   \n",
       "std      6.344754              11.058222          39.206269   \n",
       "min     39.000000             105.000000         141.000000   \n",
       "25%     48.000000             120.000000         222.000000   \n",
       "50%     54.000000             130.000000         243.000000   \n",
       "75%     58.000000             138.000000         266.250000   \n",
       "max     68.000000             170.000000         564.000000   \n",
       "\n",
       "       fasting_blood_sugar  \n",
       "count            540.00000  \n",
       "mean               0.07963  \n",
       "std                0.27097  \n",
       "min                0.00000  \n",
       "25%                0.00000  \n",
       "50%                0.00000  \n",
       "75%                0.00000  \n",
       "max                1.00000  "
      ]
     },
     "execution_count": 2,
     "metadata": {},
     "output_type": "execute_result"
    }
   ],
   "source": [
    "df = pd.read_csv(r\"C:\\Users\\prash\\Downloads\\heart_risk\\data_heartdisease.csv\", index_col='id')\n",
    "df.describe()"
   ]
  },
  {
   "cell_type": "code",
   "execution_count": 3,
   "id": "1d4f3e54-f4d4-48ca-a144-7e2924fff237",
   "metadata": {},
   "outputs": [
    {
     "name": "stderr",
     "output_type": "stream",
     "text": [
      "C:\\Users\\prash\\AppData\\Local\\Temp\\ipykernel_20148\\3422834562.py:2: FutureWarning: Downcasting behavior in `replace` is deprecated and will be removed in a future version. To retain the old behavior, explicitly call `result.infer_objects(copy=False)`. To opt-in to the future behavior, set `pd.set_option('future.no_silent_downcasting', True)`\n",
      "  y = df['heart_disease_diagnosis'].replace({'Yes': 1, 'No': 0})\n"
     ]
    }
   ],
   "source": [
    "X = df[['age', 'serum_cholesterol']]\n",
    "y = df['heart_disease_diagnosis'].replace({'Yes': 1, 'No': 0})\n",
    "\n",
    "X_train, X_test, y_train, y_test = train_test_split(X, y, test_size=0.2, random_state=42)    "
   ]
  },
  {
   "cell_type": "markdown",
   "id": "49714d16-7cbb-4e74-b187-1ea31e2a6718",
   "metadata": {},
   "source": [
    "## Train Model"
   ]
  },
  {
   "cell_type": "code",
   "execution_count": 4,
   "id": "fd612638-8a6e-42a5-8f71-1c2e3bd1a6cd",
   "metadata": {},
   "outputs": [],
   "source": [
    "model = LogisticRegression()\n",
    "model.fit(X_train.values, y_train.values)\n",
    "\n",
    "y_pred = model.predict(X_test.values)"
   ]
  },
  {
   "cell_type": "markdown",
   "id": "0e743b46-b5a9-4eb1-bbc5-4de4557583a1",
   "metadata": {},
   "source": [
    "## Results"
   ]
  },
  {
   "cell_type": "code",
   "execution_count": 11,
   "id": "dd2b5878-ba59-411a-8193-f77ee97a61c9",
   "metadata": {},
   "outputs": [
    {
     "data": {
      "text/plain": [
       "Text(20.72222222222222, 0.5, 'Truth')"
      ]
     },
     "execution_count": 11,
     "metadata": {},
     "output_type": "execute_result"
    },
    {
     "data": {
      "image/png": "[encoded data removed]",
      "text/plain": [
       "<Figure size 400x300 with 2 Axes>"
      ]
     },
     "metadata": {},
     "output_type": "display_data"
    }
   ],
   "source": [
    "accuracy = accuracy_score(y_test, y_pred)\n",
    "cm = confusion_matrix(y_test, y_pred)\n",
    "plt.figure(figsize = (4,3))\n",
    "sns.heatmap(cm, annot=True)\n",
    "plt.tight_layout()\n",
    "plt.xlabel('Predicted')\n",
    "plt.ylabel('Truth')"
   ]
  },
  {
   "cell_type": "code",
   "execution_count": 8,
   "id": "d20c0079-7cbc-4f37-ad8d-5eeb331136f6",
   "metadata": {},
   "outputs": [
    {
     "name": "stdout",
     "output_type": "stream",
     "text": [
      "              precision    recall  f1-score   support\n",
      "\n",
      "           0       0.70      0.80      0.75        59\n",
      "           1       0.71      0.59      0.64        49\n",
      "\n",
      "    accuracy                           0.70       108\n",
      "   macro avg       0.70      0.69      0.70       108\n",
      "weighted avg       0.70      0.70      0.70       108\n",
      "\n"
     ]
    }
   ],
   "source": [
    "cr = classification_report(y_test, y_pred)\n",
    "print(cr)"
   ]
  },
  {
   "cell_type": "code",
   "execution_count": 11,
   "id": "02b931ba-eb31-4708-b55d-e04172baae2e",
   "metadata": {},
   "outputs": [],
   "source": [
    " import pickle\n",
    "filename = 'heart_risk.sav'\n",
    "pickle.dump(model, open(filename, 'wb'))"
   ]
  }
 ],
 "metadata": {
  "kernelspec": {
   "display_name": "Python 3 (ipykernel)",
   "language": "python",
   "name": "python3"
  },
  "language_info": {
   "codemirror_mode": {
    "name": "ipython",
    "version": 3
   },
   "file_extension": ".py",
   "mimetype": "text/x-python",
   "name": "python",
   "nbconvert_exporter": "python",
   "pygments_lexer": "ipython3",
   "version": "3.10.11"
  }
 },
 "nbformat": 4,
 "nbformat_minor": 5
}
